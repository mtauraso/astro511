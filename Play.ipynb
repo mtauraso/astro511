{
 "cells": [
  {
   "cell_type": "code",
   "execution_count": 1,
   "metadata": {},
   "outputs": [
    {
     "name": "stdout",
     "output_type": "stream",
     "text": [
      "-0.3 0.010228310890352496\n"
     ]
    }
   ],
   "source": [
    "import astropy.units as u\n",
    "import numpy as np\n",
    "z_sun = 0.02\n",
    "ratio_sun = z_sun/(1-z_sun)\n",
    "\n",
    "\n",
    "feh_star = -0.3 # = log10(ratio_star/ratio_sun) = log10(ratio_star) - log10(ratio_sun)\n",
    "ratio_star = 10**(feh_star + np.log10(ratio_sun))\n",
    "\n",
    "print(feh_star, ratio_star)\n"
   ]
  },
  {
   "cell_type": "code",
   "execution_count": 14,
   "metadata": {},
   "outputs": [
    {
     "data": {
      "text/latex": [
       "$-0.3 \\; \\mathrm{dex}$$\\mathrm{\\left( \\mathrm{} \\right)}$"
      ],
      "text/plain": [
       "<LogQuantity -0.3 dex>"
      ]
     },
     "execution_count": 14,
     "metadata": {},
     "output_type": "execute_result"
    }
   ],
   "source": [
    "feh_star_q = u.LogQuantity(feh_star)\n",
    "#print(\"$x^{2x}$\")\n",
    "feh_star_q\n"
   ]
  },
  {
   "cell_type": "code",
   "execution_count": 10,
   "metadata": {},
   "outputs": [
    {
     "data": {
      "text/latex": [
       "$4 \\; \\mathrm{{}^{\\circ}}$"
      ],
      "text/plain": [
       "<Quantity 4. deg>"
      ]
     },
     "execution_count": 10,
     "metadata": {},
     "output_type": "execute_result"
    }
   ],
   "source": [
    "u.Quantity(4,u.deg)"
   ]
  },
  {
   "cell_type": "code",
   "execution_count": null,
   "metadata": {},
   "outputs": [],
   "source": []
  }
 ],
 "metadata": {
  "kernelspec": {
   "display_name": "Astro511",
   "language": "python",
   "name": "python3"
  },
  "language_info": {
   "codemirror_mode": {
    "name": "ipython",
    "version": 3
   },
   "file_extension": ".py",
   "mimetype": "text/x-python",
   "name": "python",
   "nbconvert_exporter": "python",
   "pygments_lexer": "ipython3",
   "version": "3.10.9"
  },
  "orig_nbformat": 4,
  "vscode": {
   "interpreter": {
    "hash": "8bce2e7cf1ff8aba8f02efe1a3d78a59f54ba5b6811407ff2bd39dd958628868"
   }
  }
 },
 "nbformat": 4,
 "nbformat_minor": 2
}
